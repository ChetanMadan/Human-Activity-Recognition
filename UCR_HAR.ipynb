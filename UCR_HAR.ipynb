{
 "cells": [
  {
   "cell_type": "code",
   "execution_count": 1,
   "metadata": {},
   "outputs": [],
   "source": [
    "import pandas as pd\n",
    "import numpy as np\n",
    "import matplotlib.pyplot as plt\n",
    "import tensorflow as tf\n",
    "#import keras"
   ]
  },
  {
   "cell_type": "code",
   "execution_count": 2,
   "metadata": {},
   "outputs": [],
   "source": [
    "from sklearn. preprocessing import LabelEncoder \n",
    "from scipy import stats\n",
    "from tensorflow.keras.utils import to_categorical"
   ]
  },
  {
   "cell_type": "code",
   "execution_count": 3,
   "metadata": {},
   "outputs": [],
   "source": [
    "from tensorflow.keras.models import Sequential\n",
    "from tensorflow.keras.activations import relu, tanh, softmax\n",
    "from tensorflow.keras.optimizers import SGD, Adam"
   ]
  },
  {
   "cell_type": "code",
   "execution_count": 4,
   "metadata": {},
   "outputs": [],
   "source": [
    "from tensorflow.keras.layers import Dense, Conv1D, Input\n",
    "from tensorflow.keras.layers import MaxPooling1D, Reshape, Flatten, Dropout"
   ]
  },
  {
   "cell_type": "code",
   "execution_count": 5,
   "metadata": {},
   "outputs": [],
   "source": [
    "from tensorflow.keras import backend as K"
   ]
  },
  {
   "cell_type": "code",
   "execution_count": 6,
   "metadata": {},
   "outputs": [
    {
     "name": "stdout",
     "output_type": "stream",
     "text": [
      "Device mapping:\n",
      "/job:localhost/replica:0/task:0/device:XLA_CPU:0 -> device: XLA_CPU device\n",
      "/job:localhost/replica:0/task:0/device:XLA_GPU:0 -> device: XLA_GPU device\n",
      "/job:localhost/replica:0/task:0/device:GPU:0 -> device: 0, name: GeForce RTX 2060, pci bus id: 0000:01:00.0, compute capability: 7.5\n",
      "\n"
     ]
    }
   ],
   "source": [
    "config = tf.ConfigProto()\n",
    "config.gpu_options.allow_growth=True\n",
    "config.log_device_placement = True\n",
    "sess = tf.Session(config=config)\n",
    "K.set_session(sess)"
   ]
  },
  {
   "cell_type": "code",
   "execution_count": 7,
   "metadata": {},
   "outputs": [],
   "source": [
    "def load_file(path):\n",
    "    df = pd.read_csv(path, header=None, delim_whitespace=True)\n",
    "    print(df.values.shape)\n",
    "    return df.values\n",
    "\n",
    "def load_data(filenames, prefix=''):\n",
    "    loaded=[]\n",
    "    for file in filenames:\n",
    "        data = load_file(prefix + file)\n",
    "        loaded.append(data)\n",
    "    loaded = np.dstack(loaded)\n",
    "    return loaded"
   ]
  },
  {
   "cell_type": "code",
   "execution_count": 8,
   "metadata": {},
   "outputs": [],
   "source": [
    "def load_dataset(group, prefix=''):\n",
    "    filepath = prefix + group + '/Inertial Signals/'\n",
    "    \n",
    "    filenames = list()\n",
    "    filenames+=['total_acc_x_'+group+'.txt', \n",
    "                    'total_acc_y_'+group+'.txt',\n",
    "                    'total_acc_z_'+group+'.txt']\n",
    "    filenames += ['body_acc_x_'+group+'.txt', \n",
    "                    'body_acc_y_'+group+'.txt',\n",
    "                    'body_acc_z_'+group+'.txt']\n",
    "    filenames += ['body_gyro_x_'+group+'.txt', \n",
    "                    'body_gyro_y_'+group+'.txt',\n",
    "                    'body_gyro_z_'+group+'.txt']\n",
    "    print(filenames)\n",
    "    X = load_data(filenames, filepath)\n",
    "    y = load_file(prefix+group+'/y_'+group+'.txt')\n",
    "    return X,y"
   ]
  },
  {
   "cell_type": "code",
   "execution_count": 9,
   "metadata": {},
   "outputs": [],
   "source": [
    "def load_data_sets(prefix=''):\n",
    "    trainX, trainy = load_dataset('train', prefix+'UCI HAR Dataset/')\n",
    "    print(trainX.shape, trainy.shape)\n",
    "    testX, testy = load_dataset('test', prefix+'UCI HAR Dataset/')\n",
    "    print(testX.shape, testy.shape)\n",
    "    trainy = to_categorical(trainy)\n",
    "    testy = to_categorical(testy)\n",
    "    return trainX, trainy, testX, testy"
   ]
  },
  {
   "cell_type": "code",
   "execution_count": 10,
   "metadata": {},
   "outputs": [
    {
     "name": "stdout",
     "output_type": "stream",
     "text": [
      "['total_acc_x_train.txt', 'total_acc_y_train.txt', 'total_acc_z_train.txt', 'body_acc_x_train.txt', 'body_acc_y_train.txt', 'body_acc_z_train.txt', 'body_gyro_x_train.txt', 'body_gyro_y_train.txt', 'body_gyro_z_train.txt']\n",
      "(7352, 128)\n",
      "(7352, 128)\n",
      "(7352, 128)\n",
      "(7352, 128)\n",
      "(7352, 128)\n",
      "(7352, 128)\n",
      "(7352, 128)\n",
      "(7352, 128)\n",
      "(7352, 128)\n",
      "(7352, 1)\n",
      "(7352, 128, 9) (7352, 1)\n",
      "['total_acc_x_test.txt', 'total_acc_y_test.txt', 'total_acc_z_test.txt', 'body_acc_x_test.txt', 'body_acc_y_test.txt', 'body_acc_z_test.txt', 'body_gyro_x_test.txt', 'body_gyro_y_test.txt', 'body_gyro_z_test.txt']\n",
      "(2947, 128)\n",
      "(2947, 128)\n",
      "(2947, 128)\n",
      "(2947, 128)\n",
      "(2947, 128)\n",
      "(2947, 128)\n",
      "(2947, 128)\n",
      "(2947, 128)\n",
      "(2947, 128)\n",
      "(2947, 1)\n",
      "(2947, 128, 9) (2947, 1)\n"
     ]
    }
   ],
   "source": [
    "trainX, trainy, testX, testy = load_data_sets()"
   ]
  },
  {
   "cell_type": "code",
   "execution_count": null,
   "metadata": {},
   "outputs": [],
   "source": []
  },
  {
   "cell_type": "code",
   "execution_count": 11,
   "metadata": {},
   "outputs": [],
   "source": [
    "n_timesteps, n_features, n_outputs = trainX.shape[1], trainX.shape[2], trainy.shape[1]"
   ]
  },
  {
   "cell_type": "code",
   "execution_count": 12,
   "metadata": {},
   "outputs": [],
   "source": [
    "model = Sequential()"
   ]
  },
  {
   "cell_type": "code",
   "execution_count": 13,
   "metadata": {},
   "outputs": [
    {
     "name": "stdout",
     "output_type": "stream",
     "text": [
      "WARNING:tensorflow:From /home/dexter/anaconda3/lib/python3.6/site-packages/tensorflow_core/python/ops/resource_variable_ops.py:1630: calling BaseResourceVariable.__init__ (from tensorflow.python.ops.resource_variable_ops) with constraint is deprecated and will be removed in a future version.\n",
      "Instructions for updating:\n",
      "If using Keras pass *_constraint arguments to layers.\n"
     ]
    }
   ],
   "source": [
    "model.add(Conv1D(64, kernel_size=3, input_shape = (n_timesteps, n_features), activation='relu'))\n",
    "\n",
    "model.add(Conv1D(64, kernel_size=3, activation='relu'))\n",
    "model.add(Dropout(0.5))\n",
    "model.add(MaxPooling1D(pool_size=2))\n",
    "model.add(Flatten())\n",
    "model.add(Dense(100, activation='relu'))\n",
    "model.add(Dense(n_outputs, activation='softmax'))"
   ]
  },
  {
   "cell_type": "code",
   "execution_count": 21,
   "metadata": {},
   "outputs": [],
   "source": [
    "model.compile(loss='categorical_crossentropy',\n",
    "             optimizer='adam',\n",
    "             metrics=['accuracy'])"
   ]
  },
  {
   "cell_type": "code",
   "execution_count": 24,
   "metadata": {},
   "outputs": [
    {
     "name": "stdout",
     "output_type": "stream",
     "text": [
      "Train on 6616 samples, validate on 736 samples\n",
      "Epoch 1/10\n",
      "6616/6616 [==============================] - 1s 110us/sample - loss: 0.0371 - acc: 0.9832 - val_loss: 0.0411 - val_acc: 0.9823\n",
      "Epoch 2/10\n",
      "6616/6616 [==============================] - 1s 87us/sample - loss: 0.0442 - acc: 0.9846 - val_loss: 0.0425 - val_acc: 0.9823\n",
      "Epoch 3/10\n",
      "6616/6616 [==============================] - 1s 89us/sample - loss: 0.0482 - acc: 0.9825 - val_loss: 0.2168 - val_acc: 0.9253\n",
      "Epoch 4/10\n",
      "6616/6616 [==============================] - 1s 85us/sample - loss: 0.0358 - acc: 0.9840 - val_loss: 0.1173 - val_acc: 0.9443\n",
      "Epoch 5/10\n",
      "6616/6616 [==============================] - 1s 84us/sample - loss: 0.0274 - acc: 0.9884 - val_loss: 0.0873 - val_acc: 0.9674\n",
      "Epoch 6/10\n",
      "6616/6616 [==============================] - 1s 84us/sample - loss: 0.0403 - acc: 0.9858 - val_loss: 0.0861 - val_acc: 0.9538\n",
      "Epoch 7/10\n",
      "6616/6616 [==============================] - 1s 88us/sample - loss: 0.0257 - acc: 0.9884 - val_loss: 0.0876 - val_acc: 0.9674\n",
      "Epoch 8/10\n",
      "6616/6616 [==============================] - 1s 84us/sample - loss: 0.0264 - acc: 0.9902 - val_loss: 0.1671 - val_acc: 0.9416\n",
      "Epoch 9/10\n",
      "6616/6616 [==============================] - 1s 85us/sample - loss: 0.0356 - acc: 0.9849 - val_loss: 0.0603 - val_acc: 0.9674\n",
      "Epoch 10/10\n",
      "6616/6616 [==============================] - 1s 85us/sample - loss: 0.0257 - acc: 0.9891 - val_loss: 0.1167 - val_acc: 0.9552\n",
      "2947/2947 [==============================] - 0s 49us/sample - loss: 1.1261 - acc: 0.9267\n"
     ]
    }
   ],
   "source": [
    "batch_size = 32\n",
    "epochs=10\n",
    "\n",
    "\n",
    "hist = model.fit(trainX, trainy, epochs=epochs,validation_split=0.1, batch_size=batch_size)\n",
    "\n",
    "accuracy = model.evaluate(testX, testy, batch_size=batch_size)"
   ]
  },
  {
   "cell_type": "code",
   "execution_count": 25,
   "metadata": {},
   "outputs": [
    {
     "data": {
      "text/plain": [
       "[1.1261434359676086, 0.9267051]"
      ]
     },
     "execution_count": 25,
     "metadata": {},
     "output_type": "execute_result"
    }
   ],
   "source": [
    "accuracy"
   ]
  },
  {
   "cell_type": "code",
   "execution_count": 27,
   "metadata": {},
   "outputs": [],
   "source": [
    "model.save('cnn_model.h5')"
   ]
  },
  {
   "cell_type": "code",
   "execution_count": null,
   "metadata": {},
   "outputs": [],
   "source": []
  }
 ],
 "metadata": {
  "kernelspec": {
   "display_name": "Python 3",
   "language": "python",
   "name": "python3"
  },
  "language_info": {
   "codemirror_mode": {
    "name": "ipython",
    "version": 3
   },
   "file_extension": ".py",
   "mimetype": "text/x-python",
   "name": "python",
   "nbconvert_exporter": "python",
   "pygments_lexer": "ipython3",
   "version": "3.6.9"
  }
 },
 "nbformat": 4,
 "nbformat_minor": 2
}
